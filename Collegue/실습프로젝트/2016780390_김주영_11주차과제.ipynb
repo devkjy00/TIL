{
 "cells": [
  {
   "cell_type": "code",
   "execution_count": 1,
   "id": "74977677",
   "metadata": {},
   "outputs": [],
   "source": [
    "# 파이썬데이터분석-2016780390-김주영\n",
    "import matplotlib.pyplot as plt\n",
    "import csv"
   ]
  },
  {
   "cell_type": "code",
   "execution_count": 2,
   "id": "d909b6a9",
   "metadata": {},
   "outputs": [],
   "source": [
    "class seoul_temperature_1907_to2021():\n",
    "    def __init__(self, day: str):\n",
    "        '''\n",
    "        store temperature data of seoul\n",
    "        '''\n",
    "        self.max, self.min = self.read_max_min_temp(day)\n",
    "        \n",
    "    def read_max_min_temp(self, day: str):\n",
    "        '''\n",
    "        read file and get max,min temperature data\n",
    "        '''\n",
    "        max, min = [], []\n",
    "        with open('seoul.csv', encoding='euc-kr') as f:\n",
    "            data = csv.reader(f)\n",
    "            next(data)\n",
    "            for row in data:\n",
    "                if day in row[0] and row[-1] != '':\n",
    "                    max.append(float(row[-1]))\n",
    "                    min.append(float(row[-2]))\n",
    "        return max, min"
   ]
  },
  {
   "cell_type": "code",
   "execution_count": 3,
   "id": "63370d0d",
   "metadata": {},
   "outputs": [],
   "source": [
    "christmas = seoul_temperature_1907_to2021('12.25')"
   ]
  },
  {
   "cell_type": "code",
   "execution_count": null,
   "id": "6ae610b7",
   "metadata": {},
   "outputs": [],
   "source": [
    "plt.boxplot([christmas.max, christmas.min])\n",
    "plt.show()"
   ]
  },
  {
   "cell_type": "code",
   "execution_count": null,
   "id": "5d67f142",
   "metadata": {},
   "outputs": [],
   "source": []
  }
 ],
 "metadata": {
  "kernelspec": {
   "display_name": "Python 3 (ipykernel)",
   "language": "python",
   "name": "python3"
  },
  "language_info": {
   "codemirror_mode": {
    "name": "ipython",
    "version": 3
   },
   "file_extension": ".py",
   "mimetype": "text/x-python",
   "name": "python",
   "nbconvert_exporter": "python",
   "pygments_lexer": "ipython3",
   "version": "3.9.7"
  }
 },
 "nbformat": 4,
 "nbformat_minor": 5
}
