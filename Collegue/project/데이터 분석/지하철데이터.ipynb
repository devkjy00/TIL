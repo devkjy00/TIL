{
 "cells": [
  {
   "cell_type": "code",
   "execution_count": 21,
   "metadata": {},
   "outputs": [],
   "source": [
    "import csv\n",
    "\n",
    "def get_data_on_hour(data):\n",
    "    result = []\n",
    "    mx_station = ''\n",
    "    mx = 0\n",
    "    t = int(input('검색할 승차 시간'))\n",
    "\n",
    "    for row in data:\n",
    "        row[4:] = map(int,row[4:]) # 리스트에 넣으면 map객체가 아니라 값이 들어간다\n",
    "        a = row[4+(t-4)*2]\n",
    "        result.append(a)\n",
    "        if a > mx:\n",
    "            mx = a\n",
    "            mx_station = row[3]+'('+row[1]+')'\n",
    "    print(mx_station, mx)\n",
    "    return result\n",
    "\n",
    "\n",
    "    "
   ]
  },
  {
   "cell_type": "code",
   "execution_count": 30,
   "metadata": {},
   "outputs": [],
   "source": [
    "def get_data_mx_every_hour(data):\n",
    "    mx_station = ['']*24\n",
    "    mx = [0]*24\n",
    "\n",
    "    for row in data:\n",
    "        row[4:] = map(int,row[4:]) \n",
    "        for j in range(24):\n",
    "            a = row[j *2 +4]  \n",
    "            if a > mx[j]:\n",
    "                mx[j] = a\n",
    "                mx_station[j] = row[3]+'('+row[1]+')'\n",
    "         \n",
    "    print(mx_station, mx)\n",
    "    return mx\n",
    "\n"
   ]
  },
  {
   "cell_type": "code",
   "execution_count": 31,
   "metadata": {},
   "outputs": [
    {
     "name": "stdout",
     "output_type": "stream",
     "text": [
      "['구로(경부선)', '구로디지털단지(2호선)', '신림(2호선)', '신림(2호선)', '신림(2호선)', '신림(2호선)', '신림(2호선)', '신림(2호선)', '신림(2호선)', '강남(2호선)', '강남(2호선)', '강남(2호선)', '강남(2호선)', '강남(2호선)', '강남(2호선)', '강남(2호선)', '잠실(송파구청)(2호선)', '강남(2호선)', '강남(2호선)', '홍대입구(2호선)', '의정부(경원선)', '창동(4호선)', '뚝섬(2호선)', ''] [11766, 38551, 70065, 177954, 272106, 166669, 94102, 80641, 85382, 92777, 102210, 126007, 144210, 212665, 292903, 179304, 148277, 180551, 180883, 21683, 320, 5, 9, 0]\n"
     ]
    }
   ],
   "source": [
    "with open('데이터/지하철시간대별이용현황.csv') as f:\n",
    "    data = csv.reader(f)\n",
    "    next(data)\n",
    "    next(data)\n",
    "    \n",
    "    # result = get_data_on_hour(data)\n",
    "    result = get_data_mx_every_hour(data)\n",
    "    "
   ]
  },
  {
   "cell_type": "code",
   "execution_count": 34,
   "metadata": {},
   "outputs": [
    {
     "data": {
      "image/png": "[encoded data removed]",
      "text/plain": [
       "<Figure size 432x288 with 1 Axes>"
      ]
     },
     "metadata": {
      "needs_background": "light"
     },
     "output_type": "display_data"
    }
   ],
   "source": [
    "import matplotlib.pyplot as plt\n",
    "plt.title('aboard')\n",
    "plt.bar(range(len(result)),result)\n",
    "plt.show()\n",
    "# result.sort()\n",
    "# plt.bar(range(len(result)), result)\n",
    "# plt.show()\n",
    "\n"
   ]
  },
  {
   "cell_type": "code",
   "execution_count": null,
   "metadata": {},
   "outputs": [],
   "source": []
  }
 ],
 "metadata": {
  "interpreter": {
   "hash": "113a5f29424c6df9400281900b5f2e07903817b137a5f269cab85bf07306917d"
  },
  "kernelspec": {
   "display_name": "Python 3.9.7 64-bit ('np_pd_v': venv)",
   "language": "python",
   "name": "python3"
  },
  "language_info": {
   "codemirror_mode": {
    "name": "ipython",
    "version": 3
   },
   "file_extension": ".py",
   "mimetype": "text/x-python",
   "name": "python",
   "nbconvert_exporter": "python",
   "pygments_lexer": "ipython3",
   "version": "3.9.7"
  },
  "orig_nbformat": 4
 },
 "nbformat": 4,
 "nbformat_minor": 2
}
