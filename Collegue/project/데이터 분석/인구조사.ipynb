{
 "cells": [
  {
   "cell_type": "code",
   "execution_count": 287,
   "metadata": {},
   "outputs": [],
   "source": [
    "import matplotlib.pyplot as plt\n",
    "import csv\n",
    "from collections import namedtuple"
   ]
  },
  {
   "cell_type": "code",
   "execution_count": 288,
   "metadata": {},
   "outputs": [],
   "source": [
    "\n",
    "county_population_f = '데이터/18~30전국남여인구.csv'\n",
    "seoul_population_f = '데이터/18~30서울남여인구.csv'\n",
    "jeonnam_pupulation_f = '데이터/18~30전남남여인구.csv'\n",
    "with open(jeonnam_pupulation_f, encoding='euc-kr') as f:\n",
    "    populatino_list = list(csv.reader(f))\n",
    "\n",
    "# populatino_list[0][18:31], populatino_list[0][33:46]"
   ]
  },
  {
   "cell_type": "code",
   "execution_count": 289,
   "metadata": {},
   "outputs": [
    {
     "data": {
      "text/plain": [
       "['(4600000000)',\n",
       " '목포시',\n",
       " '여수시',\n",
       " '순천시',\n",
       " '나주시',\n",
       " '광양시',\n",
       " '담양군',\n",
       " '곡성군',\n",
       " '구례군',\n",
       " '고흥군',\n",
       " '보성군',\n",
       " '화순군',\n",
       " '장흥군',\n",
       " '강진군',\n",
       " '해남군',\n",
       " '영암군',\n",
       " '무안군',\n",
       " '함평군',\n",
       " '영광군',\n",
       " '장성군',\n",
       " '완도군',\n",
       " '진도군',\n",
       " '신안군']"
      ]
     },
     "execution_count": 289,
     "metadata": {},
     "output_type": "execute_result"
    }
   ],
   "source": [
    "del populatino_list[0]\n",
    "idx = 0 if '전국' in populatino_list[0][0] else 1\n",
    "areas = [(row[0].split())[idx] for row in populatino_list] \n",
    "areas\n"
   ]
  },
  {
   "cell_type": "code",
   "execution_count": 290,
   "metadata": {},
   "outputs": [],
   "source": [
    "searched_population = namedtuple('searched',('man','woman'))\n",
    "searched_area = input('검색을 원하는 지역')\n",
    "edit_str_to_int = lambda x : int(x.replace(',',''))\n",
    "\n",
    "\n",
    "for row, area in zip(populatino_list, areas):\n",
    "    if searched_area in area:\n",
    "        edited_man = list(map(edit_str_to_int ,row[18:31]))\n",
    "        edited_woman = list(map(edit_str_to_int ,row[33:46]))\n",
    "        population = searched_population(edited_man, edited_woman)\n",
    "\n",
    "# population_pct = searched_population([],[])\n",
    "# for man_num, woman_num in zip(edited_man, edited_woman):\n",
    "#     population_pct.man.append((man_num/(man_num+woman_num))*100)\n",
    "#     population_pct.woman.append((woman_num/(man_num+woman_num))*100)\n",
    "\n"
   ]
  },
  {
   "cell_type": "code",
   "execution_count": 291,
   "metadata": {},
   "outputs": [
    {
     "data": {
      "image/png": "[encoded data removed]",
      "text/plain": [
       "<Figure size 432x288 with 1 Axes>"
      ]
     },
     "metadata": {
      "needs_background": "light"
     },
     "output_type": "display_data"
    },
    {
     "data": {
      "text/plain": [
       "<Figure size 720x360 with 0 Axes>"
      ]
     },
     "metadata": {},
     "output_type": "display_data"
    }
   ],
   "source": [
    "\n",
    "plt.plot(range(18,31),population.man)\n",
    "plt.plot(range(18,31),population.woman)\n",
    "plt.figure(figsize=(10,5))\n",
    "plt.show()"
   ]
  },
  {
   "cell_type": "code",
   "execution_count": null,
   "metadata": {},
   "outputs": [],
   "source": []
  },
  {
   "cell_type": "code",
   "execution_count": null,
   "metadata": {},
   "outputs": [],
   "source": []
  }
 ],
 "metadata": {
  "interpreter": {
   "hash": "113a5f29424c6df9400281900b5f2e07903817b137a5f269cab85bf07306917d"
  },
  "kernelspec": {
   "display_name": "Python 3.9.7 64-bit ('np_pd_v': venv)",
   "language": "python",
   "name": "python3"
  },
  "language_info": {
   "codemirror_mode": {
    "name": "ipython",
    "version": 3
   },
   "file_extension": ".py",
   "mimetype": "text/x-python",
   "name": "python",
   "nbconvert_exporter": "python",
   "pygments_lexer": "ipython3",
   "version": "3.9.7"
  },
  "orig_nbformat": 4
 },
 "nbformat": 4,
 "nbformat_minor": 2
}
